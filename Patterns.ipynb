{
 "cells": [
  {
   "cell_type": "markdown",
   "id": "5a596466",
   "metadata": {},
   "source": [
    "# **Patterns**"
   ]
  },
  {
   "cell_type": "markdown",
   "id": "4082087d",
   "metadata": {},
   "source": [
    "* Patterns can be printed in python using simple for loops. First outer loop is used to handle the number of rows and the Inner nested loop is used to handle the number of columns.\n",
    "* Manipulating the print statements, different number patterns, alphabet patterns, or star patterns can be printed. "
   ]
  },
  {
   "cell_type": "markdown",
   "id": "0dc8a491",
   "metadata": {},
   "source": [
    "## Triangle pattern"
   ]
  },
  {
   "cell_type": "code",
   "execution_count": 6,
   "id": "9b1f2568",
   "metadata": {},
   "outputs": [],
   "source": [
    "def footriangle(r):\n",
    "    for i in range(1, r+1):\n",
    "        for j in range(i):\n",
    "            print('*', end = ' ')\n",
    "        print()"
   ]
  },
  {
   "cell_type": "code",
   "execution_count": 7,
   "id": "67a73f6a",
   "metadata": {},
   "outputs": [
    {
     "name": "stdout",
     "output_type": "stream",
     "text": [
      "* \n",
      "* * \n",
      "* * * \n",
      "* * * * \n",
      "* * * * * \n"
     ]
    }
   ],
   "source": [
    "footriangle(5)"
   ]
  },
  {
   "cell_type": "code",
   "execution_count": 10,
   "id": "bc5eec89",
   "metadata": {},
   "outputs": [],
   "source": [
    "def footriangle(r,c):\n",
    "    for i in range(1,r+1):\n",
    "        for j in range(i):\n",
    "            print(c, end = ' ')\n",
    "        print()"
   ]
  },
  {
   "cell_type": "code",
   "execution_count": 11,
   "id": "ac3bc5d2",
   "metadata": {},
   "outputs": [
    {
     "name": "stdout",
     "output_type": "stream",
     "text": [
      "& \n",
      "& & \n",
      "& & & \n",
      "& & & & \n",
      "& & & & & \n"
     ]
    }
   ],
   "source": [
    "footriangle(5,'&')"
   ]
  },
  {
   "cell_type": "code",
   "execution_count": 13,
   "id": "cd879b41",
   "metadata": {},
   "outputs": [],
   "source": [
    "def footriangle(r):\n",
    "    for i in range(1,r+1):\n",
    "        for j in range(i):\n",
    "            print(j, end = ' ')\n",
    "        print()"
   ]
  },
  {
   "cell_type": "code",
   "execution_count": 14,
   "id": "4e891ec3",
   "metadata": {},
   "outputs": [
    {
     "name": "stdout",
     "output_type": "stream",
     "text": [
      "0 \n",
      "0 1 \n",
      "0 1 2 \n",
      "0 1 2 3 \n",
      "0 1 2 3 4 \n"
     ]
    }
   ],
   "source": [
    "footriangle(5)"
   ]
  },
  {
   "cell_type": "code",
   "execution_count": 15,
   "id": "0b51578b",
   "metadata": {},
   "outputs": [],
   "source": [
    "def footriangle(r):\n",
    "    for i in range(r+1,0,-1):\n",
    "        for j in range(i):\n",
    "            print(j, end = ' ')\n",
    "        print()"
   ]
  },
  {
   "cell_type": "code",
   "execution_count": 16,
   "id": "bab37baa",
   "metadata": {
    "scrolled": true
   },
   "outputs": [
    {
     "name": "stdout",
     "output_type": "stream",
     "text": [
      "0 1 2 3 4 5 \n",
      "0 1 2 3 4 \n",
      "0 1 2 3 \n",
      "0 1 2 \n",
      "0 1 \n",
      "0 \n"
     ]
    }
   ],
   "source": [
    "footriangle(5)"
   ]
  },
  {
   "cell_type": "code",
   "execution_count": 35,
   "id": "04dbdae5",
   "metadata": {},
   "outputs": [],
   "source": [
    "def footriangle(r):\n",
    "    for i in range(r,-1,-1):\n",
    "        for j in range(i,r):\n",
    "            print(\" \", end=\" \")\n",
    "        for j in range(i+1):\n",
    "            print(j, end=\" \")\n",
    "        print()"
   ]
  },
  {
   "cell_type": "code",
   "execution_count": 36,
   "id": "56cd575a",
   "metadata": {},
   "outputs": [
    {
     "name": "stdout",
     "output_type": "stream",
     "text": [
      "0 1 2 3 4 5 \n",
      "  0 1 2 3 4 \n",
      "    0 1 2 3 \n",
      "      0 1 2 \n",
      "        0 1 \n",
      "          0 \n"
     ]
    }
   ],
   "source": [
    "footriangle(5)"
   ]
  },
  {
   "cell_type": "code",
   "execution_count": 17,
   "id": "b89c5ca6",
   "metadata": {},
   "outputs": [],
   "source": [
    "def footriangle(r):\n",
    "    for i in range(r):\n",
    "        for j in range(i,r):\n",
    "            print(\" \", end=\" \")\n",
    "        for j in range(i+1):\n",
    "            print(\"*\", end=\" \")\n",
    "        print()"
   ]
  },
  {
   "cell_type": "code",
   "execution_count": 18,
   "id": "a14c5db8",
   "metadata": {},
   "outputs": [
    {
     "name": "stdout",
     "output_type": "stream",
     "text": [
      "          * \n",
      "        * * \n",
      "      * * * \n",
      "    * * * * \n",
      "  * * * * * \n"
     ]
    }
   ],
   "source": [
    "footriangle(5)"
   ]
  },
  {
   "cell_type": "code",
   "execution_count": 21,
   "id": "d5296e3a",
   "metadata": {},
   "outputs": [],
   "source": [
    "def footriangle(r):\n",
    "    for i in range(r-1,-1,-1):\n",
    "        for j in range(i,r):\n",
    "            print(\" \", end=\" \")\n",
    "        for j in range(i+1):\n",
    "            print(\"*\", end=\" \")\n",
    "        print()"
   ]
  },
  {
   "cell_type": "code",
   "execution_count": 22,
   "id": "351101fa",
   "metadata": {
    "scrolled": false
   },
   "outputs": [
    {
     "name": "stdout",
     "output_type": "stream",
     "text": [
      "  * * * * * \n",
      "    * * * * \n",
      "      * * * \n",
      "        * * \n",
      "          * \n"
     ]
    }
   ],
   "source": [
    "footriangle(5)"
   ]
  },
  {
   "cell_type": "markdown",
   "id": "8bc2c1af",
   "metadata": {},
   "source": [
    "## Rectangle pattern"
   ]
  },
  {
   "cell_type": "code",
   "execution_count": 3,
   "id": "504adad0",
   "metadata": {},
   "outputs": [],
   "source": [
    "def rectangle(r,s):\n",
    "    for i in range(1,r+1):\n",
    "        for j in range(1,s+1):\n",
    "            print(j,end=' ')\n",
    "        print()"
   ]
  },
  {
   "cell_type": "code",
   "execution_count": 4,
   "id": "b81a68a4",
   "metadata": {
    "scrolled": false
   },
   "outputs": [
    {
     "name": "stdout",
     "output_type": "stream",
     "text": [
      "1 2 3 4 5 6 7 8 9 10 \n",
      "1 2 3 4 5 6 7 8 9 10 \n",
      "1 2 3 4 5 6 7 8 9 10 \n",
      "1 2 3 4 5 6 7 8 9 10 \n",
      "1 2 3 4 5 6 7 8 9 10 \n"
     ]
    }
   ],
   "source": [
    "rectangle(5,10)"
   ]
  },
  {
   "cell_type": "markdown",
   "id": "90ea93d7",
   "metadata": {},
   "source": [
    "## Square Pattern"
   ]
  },
  {
   "cell_type": "code",
   "execution_count": 5,
   "id": "d3c6a5ad",
   "metadata": {},
   "outputs": [],
   "source": [
    "def square(r,s):\n",
    "    for i in range(1,r+1):\n",
    "        for j in range(1,s+1):\n",
    "            print(j,end=' ')\n",
    "        print()"
   ]
  },
  {
   "cell_type": "code",
   "execution_count": 6,
   "id": "abfa6ba2",
   "metadata": {},
   "outputs": [
    {
     "name": "stdout",
     "output_type": "stream",
     "text": [
      "1 2 3 4 5 \n",
      "1 2 3 4 5 \n",
      "1 2 3 4 5 \n",
      "1 2 3 4 5 \n",
      "1 2 3 4 5 \n"
     ]
    }
   ],
   "source": [
    "square(5,5)"
   ]
  },
  {
   "cell_type": "markdown",
   "id": "0850a83a",
   "metadata": {},
   "source": [
    "## Pyramid pattern"
   ]
  },
  {
   "cell_type": "code",
   "execution_count": 31,
   "id": "837ef078",
   "metadata": {},
   "outputs": [],
   "source": [
    "def pyramid(r):\n",
    "    for i in range(r):\n",
    "        for j in range(i,r):\n",
    "            print(' ', end=' ')\n",
    "        for j in range(i):\n",
    "            print('*',end=' ')\n",
    "        for j in range(i+1):\n",
    "            print(\"*\", end=\" \")\n",
    "        print()"
   ]
  },
  {
   "cell_type": "code",
   "execution_count": 32,
   "id": "a55dc686",
   "metadata": {
    "scrolled": false
   },
   "outputs": [
    {
     "name": "stdout",
     "output_type": "stream",
     "text": [
      "          * \n",
      "        * * * \n",
      "      * * * * * \n",
      "    * * * * * * * \n",
      "  * * * * * * * * * \n"
     ]
    }
   ],
   "source": [
    "pyramid(5)"
   ]
  },
  {
   "cell_type": "code",
   "execution_count": 61,
   "id": "3c23faec",
   "metadata": {},
   "outputs": [],
   "source": [
    "def pyramid(r):\n",
    "    for i in range(r):\n",
    "        for j in range(i,r):\n",
    "            print(' ', end=' ')\n",
    "        for j in range(i):\n",
    "            print(j,end=' ')\n",
    "        for j in range(i+1):\n",
    "            print(j, end=\" \")\n",
    "        print()"
   ]
  },
  {
   "cell_type": "code",
   "execution_count": 62,
   "id": "23748bc2",
   "metadata": {},
   "outputs": [
    {
     "name": "stdout",
     "output_type": "stream",
     "text": [
      "          0 \n",
      "        0 0 1 \n",
      "      0 1 0 1 2 \n",
      "    0 1 2 0 1 2 3 \n",
      "  0 1 2 3 0 1 2 3 4 \n"
     ]
    }
   ],
   "source": [
    "pyramid(5)"
   ]
  },
  {
   "cell_type": "code",
   "execution_count": 2,
   "id": "df327bd3",
   "metadata": {},
   "outputs": [],
   "source": [
    "def pyramid(r):\n",
    "    for i in range(r,-1,-1):\n",
    "        for j in range(i,r):\n",
    "            print(' ', end=' ')\n",
    "        for j in range(i):\n",
    "            print('*',end=' ')\n",
    "        for j in range(i+1):\n",
    "            print(\"*\", end=\" \")\n",
    "        print()"
   ]
  },
  {
   "cell_type": "code",
   "execution_count": 3,
   "id": "66234ee2",
   "metadata": {
    "scrolled": true
   },
   "outputs": [
    {
     "name": "stdout",
     "output_type": "stream",
     "text": [
      "* * * * * * * * * * * \n",
      "  * * * * * * * * * \n",
      "    * * * * * * * \n",
      "      * * * * * \n",
      "        * * * \n",
      "          * \n"
     ]
    }
   ],
   "source": [
    "pyramid(5)"
   ]
  },
  {
   "cell_type": "code",
   "execution_count": 65,
   "id": "128da749",
   "metadata": {},
   "outputs": [],
   "source": [
    "def pyramid(r):\n",
    "    for i in range(r,-1,-1):\n",
    "        for j in range(i,r):\n",
    "            print(' ', end=' ')\n",
    "        for j in range(i):\n",
    "            print(j,end=' ')\n",
    "        for j in range(i+1):\n",
    "            print(j, end=\" \")\n",
    "        print()"
   ]
  },
  {
   "cell_type": "code",
   "execution_count": 66,
   "id": "a9d8fb30",
   "metadata": {
    "scrolled": true
   },
   "outputs": [
    {
     "name": "stdout",
     "output_type": "stream",
     "text": [
      "0 1 2 3 4 0 1 2 3 4 5 \n",
      "  0 1 2 3 0 1 2 3 4 \n",
      "    0 1 2 0 1 2 3 \n",
      "      0 1 0 1 2 \n",
      "        0 0 1 \n",
      "          0 \n"
     ]
    }
   ],
   "source": [
    "pyramid(5)"
   ]
  },
  {
   "cell_type": "markdown",
   "id": "8808bd4c",
   "metadata": {},
   "source": [
    "## Hourglass-shaped pattern"
   ]
  },
  {
   "cell_type": "code",
   "execution_count": 4,
   "id": "a35c623b",
   "metadata": {},
   "outputs": [],
   "source": [
    "def pyramid(r):\n",
    "    for i in range(r-1,-1,-1):\n",
    "        for j in range(i,r):\n",
    "            print(' ', end=' ')\n",
    "        for j in range(i):\n",
    "            print('*',end=' ')\n",
    "        for j in range(i+1):\n",
    "            print(\"*\", end=\" \")\n",
    "        print()\n",
    "        \n",
    "    for i in range(r):\n",
    "        for j in range(i,r):\n",
    "            print(' ', end=' ')\n",
    "        for j in range(i):\n",
    "            print('*',end=' ')\n",
    "        for j in range(i+1):\n",
    "            print(\"*\", end=\" \")\n",
    "        print()"
   ]
  },
  {
   "cell_type": "code",
   "execution_count": 5,
   "id": "13a5acf8",
   "metadata": {
    "scrolled": true
   },
   "outputs": [
    {
     "name": "stdout",
     "output_type": "stream",
     "text": [
      "  * * * * * * * * * \n",
      "    * * * * * * * \n",
      "      * * * * * \n",
      "        * * * \n",
      "          * \n",
      "          * \n",
      "        * * * \n",
      "      * * * * * \n",
      "    * * * * * * * \n",
      "  * * * * * * * * * \n"
     ]
    }
   ],
   "source": [
    "pyramid(5)"
   ]
  },
  {
   "cell_type": "code",
   "execution_count": 10,
   "id": "412d158a",
   "metadata": {},
   "outputs": [],
   "source": [
    "def pyramid(r):\n",
    "    for i in range(r-1,-1,-1):\n",
    "        for j in range(i,r):\n",
    "            print(' ', end=' ')\n",
    "        for j in range(i):\n",
    "            print(j,end=' ')\n",
    "        for j in range(i+1):\n",
    "            print(j, end=\" \")\n",
    "        print()\n",
    "        \n",
    "    for i in range(r):\n",
    "        for j in range(i,r):\n",
    "            print(' ', end=' ')\n",
    "        for j in range(i):\n",
    "            print(j,end=' ')\n",
    "        for j in range(i+1):\n",
    "            print(j, end=\" \")\n",
    "        print()"
   ]
  },
  {
   "cell_type": "code",
   "execution_count": 11,
   "id": "80f1ea68",
   "metadata": {},
   "outputs": [
    {
     "name": "stdout",
     "output_type": "stream",
     "text": [
      "  0 1 2 3 0 1 2 3 4 \n",
      "    0 1 2 0 1 2 3 \n",
      "      0 1 0 1 2 \n",
      "        0 0 1 \n",
      "          0 \n",
      "          0 \n",
      "        0 0 1 \n",
      "      0 1 0 1 2 \n",
      "    0 1 2 0 1 2 3 \n",
      "  0 1 2 3 0 1 2 3 4 \n"
     ]
    }
   ],
   "source": [
    "pyramid(5)"
   ]
  },
  {
   "cell_type": "markdown",
   "id": "78eb3636",
   "metadata": {},
   "source": [
    "## Rhombus Pattern"
   ]
  },
  {
   "cell_type": "code",
   "execution_count": 8,
   "id": "fee9100f",
   "metadata": {},
   "outputs": [],
   "source": [
    "def Rhombus(r):\n",
    "    for i in range(r):\n",
    "        for j in range(i,r):\n",
    "            print(' ', end=' ')\n",
    "        for j in range(i):\n",
    "            print('*',end=' ')\n",
    "        for j in range(i+1):\n",
    "            print(\"*\", end=\" \")\n",
    "        print()\n",
    "        \n",
    "    for i in range(r,-1,-1):\n",
    "        for j in range(i,r):\n",
    "            print(' ', end=' ')\n",
    "        for j in range(i):\n",
    "            print('*',end=' ')\n",
    "        for j in range(i+1):\n",
    "            print(\"*\", end=\" \")\n",
    "        print()"
   ]
  },
  {
   "cell_type": "code",
   "execution_count": 9,
   "id": "481db4bd",
   "metadata": {
    "scrolled": true
   },
   "outputs": [
    {
     "name": "stdout",
     "output_type": "stream",
     "text": [
      "          * \n",
      "        * * * \n",
      "      * * * * * \n",
      "    * * * * * * * \n",
      "  * * * * * * * * * \n",
      "* * * * * * * * * * * \n",
      "  * * * * * * * * * \n",
      "    * * * * * * * \n",
      "      * * * * * \n",
      "        * * * \n",
      "          * \n"
     ]
    }
   ],
   "source": [
    "Rhombus(5)"
   ]
  },
  {
   "cell_type": "code",
   "execution_count": 16,
   "id": "eb8a5b77",
   "metadata": {},
   "outputs": [],
   "source": [
    "def Rhombus(r):\n",
    "    for i in range(r):\n",
    "        for j in range(i,r):\n",
    "            print(' ', end=' ')\n",
    "        for j in range(i):\n",
    "            print(j,end=' ')\n",
    "        for j in range(i+1):\n",
    "            print(j, end=\" \")\n",
    "        print()\n",
    "        \n",
    "    for i in range(r,-1,-1):\n",
    "        for j in range(i,r):\n",
    "            print(' ', end=' ')\n",
    "        for j in range(i):\n",
    "            print(j,end=' ')\n",
    "        for j in range(i+1):\n",
    "            print(j, end=\" \")\n",
    "        print()"
   ]
  },
  {
   "cell_type": "code",
   "execution_count": 17,
   "id": "8a28fc7c",
   "metadata": {
    "scrolled": false
   },
   "outputs": [
    {
     "name": "stdout",
     "output_type": "stream",
     "text": [
      "          0 \n",
      "        0 0 1 \n",
      "      0 1 0 1 2 \n",
      "    0 1 2 0 1 2 3 \n",
      "  0 1 2 3 0 1 2 3 4 \n",
      "0 1 2 3 4 0 1 2 3 4 5 \n",
      "  0 1 2 3 0 1 2 3 4 \n",
      "    0 1 2 0 1 2 3 \n",
      "      0 1 0 1 2 \n",
      "        0 0 1 \n",
      "          0 \n"
     ]
    }
   ],
   "source": [
    "Rhombus(5)"
   ]
  },
  {
   "cell_type": "markdown",
   "id": "5899cb1f",
   "metadata": {},
   "source": [
    "## Parallelogram pattern"
   ]
  },
  {
   "cell_type": "code",
   "execution_count": 31,
   "id": "571ac6d4",
   "metadata": {},
   "outputs": [],
   "source": [
    "def foo_pattern(x):\n",
    "    for i in range(x):\n",
    "        for j in range(i,x):\n",
    "            print(' ',end=' ')\n",
    "        for j in range(x+1):\n",
    "            print('*',end=' ')\n",
    "        print()"
   ]
  },
  {
   "cell_type": "code",
   "execution_count": 32,
   "id": "e18dbd70",
   "metadata": {},
   "outputs": [
    {
     "name": "stdout",
     "output_type": "stream",
     "text": [
      "              * * * * * * * * \n",
      "            * * * * * * * * \n",
      "          * * * * * * * * \n",
      "        * * * * * * * * \n",
      "      * * * * * * * * \n",
      "    * * * * * * * * \n",
      "  * * * * * * * * \n"
     ]
    }
   ],
   "source": [
    "foo_pattern(7)"
   ]
  },
  {
   "cell_type": "code",
   "execution_count": 67,
   "id": "800c8cab",
   "metadata": {},
   "outputs": [],
   "source": [
    "def foo_pattern(x):\n",
    "    for i in range(x):\n",
    "        for j in range(i,x):\n",
    "            print(' ',end=' ')\n",
    "        for j in range(x+1):\n",
    "            print(j,end=' ')\n",
    "        print()"
   ]
  },
  {
   "cell_type": "code",
   "execution_count": 68,
   "id": "c8a72cb3",
   "metadata": {},
   "outputs": [
    {
     "name": "stdout",
     "output_type": "stream",
     "text": [
      "              0 1 2 3 4 5 6 7 \n",
      "            0 1 2 3 4 5 6 7 \n",
      "          0 1 2 3 4 5 6 7 \n",
      "        0 1 2 3 4 5 6 7 \n",
      "      0 1 2 3 4 5 6 7 \n",
      "    0 1 2 3 4 5 6 7 \n",
      "  0 1 2 3 4 5 6 7 \n"
     ]
    }
   ],
   "source": [
    "foo_pattern(7)"
   ]
  }
 ],
 "metadata": {
  "kernelspec": {
   "display_name": "Python 3 (ipykernel)",
   "language": "python",
   "name": "python3"
  },
  "language_info": {
   "codemirror_mode": {
    "name": "ipython",
    "version": 3
   },
   "file_extension": ".py",
   "mimetype": "text/x-python",
   "name": "python",
   "nbconvert_exporter": "python",
   "pygments_lexer": "ipython3",
   "version": "3.11.5"
  }
 },
 "nbformat": 4,
 "nbformat_minor": 5
}
